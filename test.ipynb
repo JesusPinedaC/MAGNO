{
 "cells": [
  {
   "cell_type": "code",
   "execution_count": 11,
   "metadata": {},
   "outputs": [],
   "source": [
    "from magno import deeptrack as dt"
   ]
  },
  {
   "cell_type": "code",
   "execution_count": 12,
   "metadata": {},
   "outputs": [
    {
     "name": "stdout",
     "output_type": "stream",
     "text": [
      "WARNING:tensorflow:Layers in a Sequential model should only have a single input tensor, but we receive a <class 'list'> input: [<tf.Tensor 'graph_block_0/strided_slice_21:0' shape=(None, None, 96) dtype=float32>, <tf.Tensor 'graph_block_0/scan_4/TensorArrayV2Stack/TensorListStack:0' shape=(None, None, 96) dtype=float32>]\n",
      "Consider rewriting this model with the Functional API.\n",
      "WARNING:tensorflow:Layers in a Sequential model should only have a single input tensor, but we receive a <class 'list'> input: [<tf.Tensor 'graph_block_1/strided_slice_21:0' shape=(None, None, 96) dtype=float32>, <tf.Tensor 'graph_block_1/scan_4/TensorArrayV2Stack/TensorListStack:0' shape=(None, None, 96) dtype=float32>]\n",
      "Consider rewriting this model with the Functional API.\n",
      "WARNING:tensorflow:Layers in a Sequential model should only have a single input tensor, but we receive a <class 'list'> input: [<tf.Tensor 'graph_block_0/strided_slice_26:0' shape=(None, None, 96) dtype=float32>, <tf.Tensor 'graph_block_0/scan_5/TensorArrayV2Stack/TensorListStack:0' shape=(None, None, 96) dtype=float32>]\n",
      "Consider rewriting this model with the Functional API.\n",
      "WARNING:tensorflow:Layers in a Sequential model should only have a single input tensor, but we receive a <class 'list'> input: [<tf.Tensor 'graph_block_1/strided_slice_26:0' shape=(None, None, 96) dtype=float32>, <tf.Tensor 'graph_block_1/scan_5/TensorArrayV2Stack/TensorListStack:0' shape=(None, None, 96) dtype=float32>]\n",
      "Consider rewriting this model with the Functional API.\n",
      "Model: \"functional_11\"\n",
      "__________________________________________________________________________________________________\n",
      "Layer (type)                    Output Shape         Param #     Connected to                     \n",
      "==================================================================================================\n",
      "input_18 (InputLayer)           [(None, None, 3)]    0                                            \n",
      "__________________________________________________________________________________________________\n",
      "node_ide1 (Dense)               (None, None, 32)     128         input_18[0][0]                   \n",
      "__________________________________________________________________________________________________\n",
      "lambda (Lambda)                 multiple             0           node_ide1[0][0]                  \n",
      "                                                                 edge_ide1[0][0]                  \n",
      "                                                                 node_ide2[0][0]                  \n",
      "                                                                 edge_ide2[0][0]                  \n",
      "                                                                 node_ide3[0][0]                  \n",
      "                                                                 edge_ide3[0][0]                  \n",
      "__________________________________________________________________________________________________\n",
      "layer_normalization_68 (LayerNo (None, None, 32)     64          lambda[69][0]                    \n",
      "__________________________________________________________________________________________________\n",
      "node_ide2 (Dense)               (None, None, 64)     2112        layer_normalization_68[0][0]     \n",
      "__________________________________________________________________________________________________\n",
      "layer_normalization_70 (LayerNo (None, None, 64)     128         lambda[71][0]                    \n",
      "__________________________________________________________________________________________________\n",
      "input_19 (InputLayer)           [(None, None, 1)]    0                                            \n",
      "__________________________________________________________________________________________________\n",
      "node_ide3 (Dense)               (None, None, 96)     6240        layer_normalization_70[0][0]     \n",
      "__________________________________________________________________________________________________\n",
      "edge_ide1 (Dense)               (None, None, 32)     64          input_19[0][0]                   \n",
      "__________________________________________________________________________________________________\n",
      "layer_normalization_69 (LayerNo (None, None, 32)     64          lambda[70][0]                    \n",
      "__________________________________________________________________________________________________\n",
      "edge_ide2 (Dense)               (None, None, 64)     2112        layer_normalization_69[0][0]     \n",
      "__________________________________________________________________________________________________\n",
      "layer_normalization_71 (LayerNo (None, None, 64)     128         lambda[72][0]                    \n",
      "__________________________________________________________________________________________________\n",
      "edge_ide3 (Dense)               (None, None, 96)     6240        layer_normalization_71[0][0]     \n",
      "__________________________________________________________________________________________________\n",
      "layer_normalization_72 (LayerNo (None, None, 96)     192         lambda[73][0]                    \n",
      "__________________________________________________________________________________________________\n",
      "tf_op_layer_strided_slice_8 (Te [(None, None, 1)]    0           input_19[0][0]                   \n",
      "__________________________________________________________________________________________________\n",
      "ClassTokenLayer (ClassToken)    (None, None, 96)     96          layer_normalization_72[0][0]     \n",
      "__________________________________________________________________________________________________\n",
      "layer_normalization_73 (LayerNo (None, None, 96)     192         lambda[74][0]                    \n",
      "__________________________________________________________________________________________________\n",
      "input_20 (InputLayer)           [(None, None, 2)]    0                                            \n",
      "__________________________________________________________________________________________________\n",
      "LearnableDistanceEmb (Learnable (None, None, 1)      2           tf_op_layer_strided_slice_8[0][0]\n",
      "__________________________________________________________________________________________________\n",
      "input_21 (InputLayer)           [(None, None, 2)]    0                                            \n",
      "__________________________________________________________________________________________________\n",
      "graph_block_0 (ClassTokenFGNN)  ((None, None, 96), ( 93216       ClassTokenLayer[0][0]            \n",
      "                                                                 layer_normalization_73[0][0]     \n",
      "                                                                 input_20[0][0]                   \n",
      "                                                                 LearnableDistanceEmb[0][0]       \n",
      "                                                                 input_21[0][0]                   \n",
      "__________________________________________________________________________________________________\n",
      "graph_block_1 (ClassTokenFGNN)  ((None, None, 96), ( 93216       graph_block_0[0][0]              \n",
      "                                                                 graph_block_0[0][1]              \n",
      "                                                                 graph_block_0[0][2]              \n",
      "                                                                 graph_block_0[0][3]              \n",
      "                                                                 graph_block_0[0][4]              \n",
      "__________________________________________________________________________________________________\n",
      "RetrieveClassToken (Lambda)     (None, 96)           0           graph_block_1[0][0]              \n",
      "==================================================================================================\n",
      "Total params: 204,194\n",
      "Trainable params: 204,194\n",
      "Non-trainable params: 0\n",
      "__________________________________________________________________________________________________\n"
     ]
    }
   ],
   "source": [
    "encoder = dt.models.CTMAGIK(output_type=\"cls_rep\")\n",
    "teacher = dt.models.CTMAGIK(output_type=\"cls_rep\")\n",
    "\n",
    "encoder.summary()"
   ]
  },
  {
   "cell_type": "code",
   "execution_count": 13,
   "metadata": {},
   "outputs": [],
   "source": [
    "model = dt.models.MAGNO(encoder, teacher, representation_size=128)"
   ]
  }
 ],
 "metadata": {
  "interpreter": {
   "hash": "01eafbc03f398b6ef6f7e15c25a5eb102011900bf800f4c737450dda12208f9c"
  },
  "kernelspec": {
   "display_name": "Python 3.8.6 64-bit",
   "language": "python",
   "name": "python3"
  },
  "language_info": {
   "codemirror_mode": {
    "name": "ipython",
    "version": 3
   },
   "file_extension": ".py",
   "mimetype": "text/x-python",
   "name": "python",
   "nbconvert_exporter": "python",
   "pygments_lexer": "ipython3",
   "version": "3.8.6"
  },
  "orig_nbformat": 4
 },
 "nbformat": 4,
 "nbformat_minor": 2
}
