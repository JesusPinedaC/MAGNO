{
 "cells": [
  {
   "cell_type": "code",
   "execution_count": null,
   "metadata": {},
   "outputs": [],
   "source": [
    "import magno\n",
    "from magno import deeptrack as dt\n",
    "\n",
    "import tensorflow as tf\n",
    "import tensorflow_addons as tfa\n",
    "\n",
    "import numpy as np\n",
    "\n",
    "tf.get_logger().setLevel('ERROR')"
   ]
  },
  {
   "cell_type": "markdown",
   "metadata": {},
   "source": [
    "#### 1. Create node dataframe"
   ]
  },
  {
   "cell_type": "code",
   "execution_count": null,
   "metadata": {},
   "outputs": [],
   "source": [
    "dfs, labels = magno.NodeExtractor(mode=\"training\")"
   ]
  },
  {
   "cell_type": "markdown",
   "metadata": {},
   "source": [
    "#### 2. Generate graph representations"
   ]
  },
  {
   "cell_type": "code",
   "execution_count": null,
   "metadata": {},
   "outputs": [],
   "source": [
    "graph = magno.GraphExtractor(\n",
    "    dfs, labels=labels, properties=[\"centroids\"]\n",
    ")"
   ]
  },
  {
   "cell_type": "markdown",
   "metadata": {},
   "source": [
    "#### 3. Set up graph augmentation pipeline"
   ]
  },
  {
   "cell_type": "code",
   "execution_count": null,
   "metadata": {},
   "outputs": [],
   "source": [
    "# Total number of sets, i.e., protein configurations\n",
    "max_set = dfs[\"set\"].max()\n",
    "\n",
    "# subset indices, i.e., realizations of the \n",
    "# same protein configuration\n",
    "subsets = np.unique(dfs[\"subset\"].values)\n",
    "\n",
    "# Number of subgraphs in each batch, batch//2 graphs\n",
    "# are passed to the teacher and batch//2 graphs are\n",
    "# passed to the encoder.\n",
    "batch = 8\n",
    "\n",
    "feature = (\n",
    "    dt.Value(graph)\n",
    "    >> dt.Lambda(\n",
    "        magno.GetSubSet,\n",
    "        randset=lambda: np.random.randint(max_set + 1),\n",
    "        randsubsets=lambda: np.random.choice(subsets, batch, replace=False),\n",
    "    )\n",
    "    >> dt.Lambda(\n",
    "        magno.AugmentCentroids,\n",
    "        rotate=lambda: np.random.rand(batch) * 2 * np.pi,\n",
    "        translate=lambda: np.random.randn(batch, 2) * 0.05,\n",
    "    )\n",
    "    >> magno.Splitter()\n",
    ")"
   ]
  },
  {
   "cell_type": "markdown",
   "metadata": {},
   "source": [
    "#### 5. Define model"
   ]
  },
  {
   "cell_type": "code",
   "execution_count": null,
   "metadata": {},
   "outputs": [],
   "source": [
    "# Define encoder\n",
    "encoder = dt.models.CTMAGIK(\n",
    "    number_of_node_features=2, output_type=\"cls_rep\"\n",
    ")\n",
    "encoder.summary()"
   ]
  },
  {
   "cell_type": "code",
   "execution_count": null,
   "metadata": {},
   "outputs": [],
   "source": [
    "# Define teacher\n",
    "teacher = dt.models.CTMAGIK(\n",
    "    number_of_node_features=2, output_type=\"cls_rep\"\n",
    ")"
   ]
  },
  {
   "cell_type": "code",
   "execution_count": null,
   "metadata": {},
   "outputs": [],
   "source": [
    "# define and compile MAGNO\n",
    "model = dt.models.MAGNO(\n",
    "    encoder, teacher, representation_size=128, center_momentum=0.99\n",
    ")\n",
    "# NOTE: 'learning_rate' and 'weight_decay' are controlled by MAGNO´s schedulers.\n",
    "# The current values are set to the default values.\n",
    "model.compile(\n",
    "    optimizer=tfa.optimizers.AdamW(learning_rate=0.001, weight_decay=0.00001),\n",
    ")\n"
   ]
  },
  {
   "cell_type": "markdown",
   "metadata": {},
   "source": [
    "#### 6. Training the network"
   ]
  },
  {
   "cell_type": "code",
   "execution_count": null,
   "metadata": {},
   "outputs": [],
   "source": [
    "# Define generator\n",
    "generator = magno.ContinuousGraphGenerator(\n",
    "        feature,\n",
    "        batch_function=lambda graph: graph[0],\n",
    "        label_function=lambda graph: graph[1],\n",
    "        min_data_size=1024,\n",
    "        max_data_size=1025,\n",
    "        batch_size=1,\n",
    "    )"
   ]
  },
  {
   "cell_type": "code",
   "execution_count": null,
   "metadata": {},
   "outputs": [],
   "source": [
    "epochs = 100\n",
    "\n",
    "# Define momentum schedule\n",
    "MomentumSchedule = magno.CosineDecay(0.996, 1.0, epochs)\n",
    "# Define learning rate schedule\n",
    "LearningRateSchedule = magno.CosineDecay(1e-3, 1e-4, epochs)\n",
    "# Define weight decay schedule\n",
    "WeightDecaySchedule = magno.CosineDecay(0.04, 0.4, epochs)\n",
    "# Define temperature schedule\n",
    "TemperatureSchedule = magno.PiecewiseConstantDecay(\n",
    "    0.04, 0.07, epochs, warmup_epochs=30\n",
    ")\n",
    "\n",
    "with generator:\n",
    "    model.fit(\n",
    "        generator,\n",
    "        epochs=epochs,\n",
    "        callbacks=[\n",
    "            magno.MomentumScheduler(MomentumSchedule),\n",
    "            magno.LearningRateScheduler(LearningRateSchedule),\n",
    "            magno.WeightDecayScheduler(WeightDecaySchedule),\n",
    "            magno.TemperatureScheduler(TemperatureSchedule),\n",
    "        ],\n",
    "    )\n"
   ]
  }
 ],
 "metadata": {
  "interpreter": {
   "hash": "01eafbc03f398b6ef6f7e15c25a5eb102011900bf800f4c737450dda12208f9c"
  },
  "kernelspec": {
   "display_name": "Python 3.8.6 64-bit",
   "language": "python",
   "name": "python3"
  },
  "language_info": {
   "codemirror_mode": {
    "name": "ipython",
    "version": 3
   },
   "file_extension": ".py",
   "mimetype": "text/x-python",
   "name": "python",
   "nbconvert_exporter": "python",
   "pygments_lexer": "ipython3",
   "version": "3.8.6"
  },
  "orig_nbformat": 4
 },
 "nbformat": 4,
 "nbformat_minor": 2
}
